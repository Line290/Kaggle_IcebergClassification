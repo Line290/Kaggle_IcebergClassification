{
 "cells": [
  {
   "cell_type": "code",
   "execution_count": 1,
   "metadata": {},
   "outputs": [
    {
     "name": "stderr",
     "output_type": "stream",
     "text": [
      "Using TensorFlow backend.\n"
     ]
    }
   ],
   "source": [
    "import numpy as np # linear algebra\n",
    "import pandas as pd # data processing, CSV file I/O (e.g. pd.read_csv)\n",
    "import pdb\n",
    "from sklearn.model_selection import train_test_split\n",
    "from keras.utils.np_utils import to_categorical\n",
    "from keras.models import Sequential\n",
    "from keras.layers import Dense, Dropout, Flatten, Lambda, Activation\n",
    "from keras.layers import Conv2D, MaxPooling2D, ZeroPadding2D, GlobalAveragePooling2D\n",
    "from keras.layers.normalization import BatchNormalization\n",
    "from keras.optimizers import Adam\n",
    "from keras import backend as K\n",
    "from matplotlib import pyplot as plt\n",
    "%matplotlib inline\n",
    "import scipy\n",
    "from scipy import misc, ndimage\n",
    "from scipy.ndimage.interpolation import zoom\n",
    "from scipy.ndimage import imread"
   ]
  },
  {
   "cell_type": "code",
   "execution_count": 2,
   "metadata": {},
   "outputs": [],
   "source": [
    "train = pd.read_json('kaggle_lceberg_data/train.json')"
   ]
  },
  {
   "cell_type": "code",
   "execution_count": 9,
   "metadata": {},
   "outputs": [
    {
     "name": "stdout",
     "output_type": "stream",
     "text": [
      "(1604, 5)\n"
     ]
    }
   ],
   "source": [
    "print train.shape"
   ]
  },
  {
   "cell_type": "code",
   "execution_count": 5,
   "metadata": {},
   "outputs": [
    {
     "data": {
      "text/html": [
       "<div>\n",
       "<style scoped>\n",
       "    .dataframe tbody tr th:only-of-type {\n",
       "        vertical-align: middle;\n",
       "    }\n",
       "\n",
       "    .dataframe tbody tr th {\n",
       "        vertical-align: top;\n",
       "    }\n",
       "\n",
       "    .dataframe thead th {\n",
       "        text-align: right;\n",
       "    }\n",
       "</style>\n",
       "<table border=\"1\" class=\"dataframe\">\n",
       "  <thead>\n",
       "    <tr style=\"text-align: right;\">\n",
       "      <th></th>\n",
       "      <th>id</th>\n",
       "      <th>is_iceberg_0</th>\n",
       "      <th>is_iceberg_1</th>\n",
       "    </tr>\n",
       "  </thead>\n",
       "  <tbody>\n",
       "    <tr>\n",
       "      <th>0</th>\n",
       "      <td>5941774d</td>\n",
       "      <td>0.002585</td>\n",
       "      <td>0.008077</td>\n",
       "    </tr>\n",
       "    <tr>\n",
       "      <th>1</th>\n",
       "      <td>4023181e</td>\n",
       "      <td>0.996710</td>\n",
       "      <td>0.995653</td>\n",
       "    </tr>\n",
       "    <tr>\n",
       "      <th>2</th>\n",
       "      <td>b20200e4</td>\n",
       "      <td>0.002125</td>\n",
       "      <td>0.001926</td>\n",
       "    </tr>\n",
       "    <tr>\n",
       "      <th>3</th>\n",
       "      <td>e7f018bb</td>\n",
       "      <td>0.999916</td>\n",
       "      <td>0.999981</td>\n",
       "    </tr>\n",
       "    <tr>\n",
       "      <th>4</th>\n",
       "      <td>4371c8c3</td>\n",
       "      <td>0.994338</td>\n",
       "      <td>0.967255</td>\n",
       "    </tr>\n",
       "  </tbody>\n",
       "</table>\n",
       "</div>"
      ],
      "text/plain": [
       "         id  is_iceberg_0  is_iceberg_1\n",
       "0  5941774d      0.002585      0.008077\n",
       "1  4023181e      0.996710      0.995653\n",
       "2  b20200e4      0.002125      0.001926\n",
       "3  e7f018bb      0.999916      0.999981\n",
       "4  4371c8c3      0.994338      0.967255"
      ]
     },
     "execution_count": 5,
     "metadata": {},
     "output_type": "execute_result"
    }
   ],
   "source": [
    "import os\n",
    "sub_path = \"./statoil-iceberg-submissions\"\n",
    "all_files = os.listdir(sub_path)\n",
    "\n",
    "# Read and concatenate submissions\n",
    "outs = [pd.read_csv(os.path.join(sub_path, f), index_col=0) for f in all_files]\n",
    "concat_sub = pd.concat(outs, axis=1)\n",
    "cols = list(map(lambda x: \"is_iceberg_\" + str(x), range(len(concat_sub.columns))))\n",
    "concat_sub.columns = cols\n",
    "concat_sub.reset_index(inplace=True)\n",
    "concat_sub.head()"
   ]
  },
  {
   "cell_type": "code",
   "execution_count": 7,
   "metadata": {},
   "outputs": [],
   "source": [
    "def get_images(df):\n",
    "    '''Create 3-channel 'images'. Return rescale-normalised images.'''\n",
    "    images = []\n",
    "    for i, row in df.iterrows():\n",
    "        # Formulate the bands as 75x75 arrays\n",
    "        band_1 = np.array(row['band_1']).reshape(75, 75)\n",
    "        band_2 = np.array(row['band_2']).reshape(75, 75)\n",
    "        band_3 = band_1 / band_2\n",
    "\n",
    "        # Rescale\n",
    "        r = (band_1 - band_1.min()) / (band_1.max() - band_1.min())\n",
    "        g = (band_2 - band_2.min()) / (band_2.max() - band_2.min())\n",
    "        b = (band_3 - band_3.min()) / (band_3.max() - band_3.min())\n",
    "\n",
    "        rgb = np.dstack((r, g, b))\n",
    "        images.append(rgb)\n",
    "    return np.array(images)"
   ]
  },
  {
   "cell_type": "code",
   "execution_count": 8,
   "metadata": {},
   "outputs": [],
   "source": [
    "X = get_images(train)"
   ]
  },
  {
   "cell_type": "code",
   "execution_count": 9,
   "metadata": {
    "scrolled": true
   },
   "outputs": [
    {
     "name": "stdout",
     "output_type": "stream",
     "text": [
      "(75, 75, 3)\n",
      "[[[ 0.27193414  0.46787277  0.74459132]\n",
      "  [ 0.29099295  0.38810471  0.66544634]\n",
      "  [ 0.25113701  0.33815411  0.66882434]\n",
      "  ..., \n",
      "  [ 0.33259165  0.40291476  0.63570864]\n",
      "  [ 0.30850655  0.38800466  0.64877246]\n",
      "  [ 0.20275585  0.4559048   0.80518155]]\n",
      "\n",
      " [[ 0.25113924  0.33815686  0.66882412]\n",
      "  [ 0.27193308  0.25453898  0.60070147]\n",
      "  [ 0.28166051  0.3193956   0.62967799]\n",
      "  ..., \n",
      "  [ 0.30850766  0.22914994  0.55726323]\n",
      "  [ 0.25105945  0.43061582  0.73546798]\n",
      "  [ 0.17414523  0.49013911  0.86700212]]\n",
      "\n",
      " [[ 0.25113924  0.25454052  0.61807252]\n",
      "  [ 0.29099295  0.13668823  0.52803727]\n",
      "  [ 0.32491869  0.3193956   0.5913252 ]\n",
      "  ..., \n",
      "  [ 0.29091542  0.31929825  0.62141423]\n",
      "  [ 0.27185434  0.29924369  0.62620289]\n",
      "  [ 0.14143428  0.38800325  0.80717871]]\n",
      "\n",
      " ..., \n",
      " [[ 0.23997096  0.44361773  0.75702796]\n",
      "  [ 0.25112259  0.44361632  0.74582325]\n",
      "  [ 0.20281904  0.37236864  0.7371266 ]\n",
      "  ..., \n",
      "  [ 0.21580931  0.53027779  0.86255792]\n",
      "  [ 0.32482668  0.45588787  0.6808926 ]\n",
      "  [ 0.308491    0.41707479  0.66881346]]\n",
      "\n",
      " [[ 0.1742106   0.38808634  0.77616858]\n",
      "  [ 0.27191753  0.388085    0.68352041]\n",
      "  [ 0.25112148  0.40299229  0.71419432]\n",
      "  ..., \n",
      "  [ 0.28156851  0.41707616  0.69511409]\n",
      "  [ 0.29986404  0.43059604  0.6870954 ]\n",
      "  [ 0.28156624  0.25441771  0.59258903]]\n",
      "\n",
      " [[ 0.23997096  0.37237145  0.70245199]\n",
      "  [ 0.29994281  0.41717484  0.67723577]\n",
      "  [ 0.29097634  0.45598515  0.71543074]\n",
      "  ..., \n",
      "  [ 0.29986515  0.35565796  0.63576369]\n",
      "  [ 0.27183882  0.41707479  0.70461767]\n",
      "  [ 0.26167666  0.40289221  0.70395887]]]\n"
     ]
    }
   ],
   "source": [
    "# print X[0].shape\n",
    "# print X[0]"
   ]
  },
  {
   "cell_type": "code",
   "execution_count": 10,
   "metadata": {},
   "outputs": [],
   "source": [
    "y = to_categorical(train.is_iceberg.values,num_classes=2)"
   ]
  },
  {
   "cell_type": "code",
   "execution_count": 11,
   "metadata": {},
   "outputs": [],
   "source": [
    "Xtr, Xv, ytr, yv = train_test_split(X, y, shuffle=False, test_size=0.20)"
   ]
  },
  {
   "cell_type": "code",
   "execution_count": 12,
   "metadata": {},
   "outputs": [],
   "source": [
    "def ConvBlock(model, layers, filters):\n",
    "    '''Create [layers] layers consisting of zero padding, a convolution with [filters] 3x3 filters and batch normalization. Perform max pooling after the last layer.'''\n",
    "    for i in range(layers):\n",
    "        model.add(ZeroPadding2D((1, 1)))\n",
    "        model.add(Conv2D(filters, (3, 3), activation='relu'))\n",
    "        model.add(BatchNormalization(axis=3))\n",
    "    model.add(MaxPooling2D((2, 2), strides=(2, 2)))"
   ]
  },
  {
   "cell_type": "code",
   "execution_count": 13,
   "metadata": {},
   "outputs": [],
   "source": [
    "def create_model():\n",
    "    '''Create the FCN and return a keras model.'''\n",
    "\n",
    "    model = Sequential()\n",
    "\n",
    "    # Input image: 75x75x3\n",
    "    model.add(Lambda(lambda x: x, input_shape=(75, 75, 3)))\n",
    "    ConvBlock(model, 1, 32)\n",
    "    # 37x37x32\n",
    "    ConvBlock(model, 1, 64)\n",
    "    # 18x18x64\n",
    "    ConvBlock(model, 1, 128)\n",
    "    # 9x9x128\n",
    "    ConvBlock(model, 1, 128)\n",
    "    # 4x4x128\n",
    "    model.add(ZeroPadding2D((1, 1)))\n",
    "    model.add(Conv2D(2, (3, 3), activation='relu'))\n",
    "    model.add(GlobalAveragePooling2D())\n",
    "    # 4x4x2\n",
    "    model.add(Activation('softmax'))\n",
    "    \n",
    "    return model"
   ]
  },
  {
   "cell_type": "code",
   "execution_count": 14,
   "metadata": {},
   "outputs": [],
   "source": [
    "# Create the model and compile\n",
    "model = create_model()\n",
    "model.compile(loss='categorical_crossentropy', \n",
    "              optimizer=Adam(lr=0.0001), \n",
    "              metrics=['accuracy'])"
   ]
  },
  {
   "cell_type": "code",
   "execution_count": 15,
   "metadata": {},
   "outputs": [
    {
     "name": "stdout",
     "output_type": "stream",
     "text": [
      "_________________________________________________________________\n",
      "Layer (type)                 Output Shape              Param #   \n",
      "=================================================================\n",
      "lambda_1 (Lambda)            (None, 75, 75, 3)         0         \n",
      "_________________________________________________________________\n",
      "zero_padding2d_1 (ZeroPaddin (None, 77, 77, 3)         0         \n",
      "_________________________________________________________________\n",
      "conv2d_1 (Conv2D)            (None, 75, 75, 32)        896       \n",
      "_________________________________________________________________\n",
      "batch_normalization_1 (Batch (None, 75, 75, 32)        128       \n",
      "_________________________________________________________________\n",
      "max_pooling2d_1 (MaxPooling2 (None, 37, 37, 32)        0         \n",
      "_________________________________________________________________\n",
      "zero_padding2d_2 (ZeroPaddin (None, 39, 39, 32)        0         \n",
      "_________________________________________________________________\n",
      "conv2d_2 (Conv2D)            (None, 37, 37, 64)        18496     \n",
      "_________________________________________________________________\n",
      "batch_normalization_2 (Batch (None, 37, 37, 64)        256       \n",
      "_________________________________________________________________\n",
      "max_pooling2d_2 (MaxPooling2 (None, 18, 18, 64)        0         \n",
      "_________________________________________________________________\n",
      "zero_padding2d_3 (ZeroPaddin (None, 20, 20, 64)        0         \n",
      "_________________________________________________________________\n",
      "conv2d_3 (Conv2D)            (None, 18, 18, 128)       73856     \n",
      "_________________________________________________________________\n",
      "batch_normalization_3 (Batch (None, 18, 18, 128)       512       \n",
      "_________________________________________________________________\n",
      "max_pooling2d_3 (MaxPooling2 (None, 9, 9, 128)         0         \n",
      "_________________________________________________________________\n",
      "zero_padding2d_4 (ZeroPaddin (None, 11, 11, 128)       0         \n",
      "_________________________________________________________________\n",
      "conv2d_4 (Conv2D)            (None, 9, 9, 128)         147584    \n",
      "_________________________________________________________________\n",
      "batch_normalization_4 (Batch (None, 9, 9, 128)         512       \n",
      "_________________________________________________________________\n",
      "max_pooling2d_4 (MaxPooling2 (None, 4, 4, 128)         0         \n",
      "_________________________________________________________________\n",
      "zero_padding2d_5 (ZeroPaddin (None, 6, 6, 128)         0         \n",
      "_________________________________________________________________\n",
      "conv2d_5 (Conv2D)            (None, 4, 4, 2)           2306      \n",
      "_________________________________________________________________\n",
      "global_average_pooling2d_1 ( (None, 2)                 0         \n",
      "_________________________________________________________________\n",
      "activation_1 (Activation)    (None, 2)                 0         \n",
      "=================================================================\n",
      "Total params: 244,546\n",
      "Trainable params: 243,842\n",
      "Non-trainable params: 704\n",
      "_________________________________________________________________\n"
     ]
    }
   ],
   "source": [
    "model.summary()"
   ]
  },
  {
   "cell_type": "code",
   "execution_count": 16,
   "metadata": {},
   "outputs": [],
   "source": [
    "init_epo = 0\n",
    "num_epo = 30\n",
    "end_epo = init_epo + num_epo"
   ]
  },
  {
   "cell_type": "code",
   "execution_count": 17,
   "metadata": {},
   "outputs": [
    {
     "name": "stdout",
     "output_type": "stream",
     "text": [
      "lr = 9.99999974738e-05\n",
      "Train on 1283 samples, validate on 321 samples\n",
      "Epoch 1/30\n",
      "1283/1283 [==============================] - 19s 15ms/step - loss: 0.5370 - acc: 0.7233 - val_loss: 0.6448 - val_acc: 0.6573\n",
      "Epoch 2/30\n",
      "1283/1283 [==============================] - 18s 14ms/step - loss: 0.4347 - acc: 0.7646 - val_loss: 0.6439 - val_acc: 0.6573\n",
      "Epoch 3/30\n",
      "1283/1283 [==============================] - 18s 14ms/step - loss: 0.3994 - acc: 0.7911 - val_loss: 0.7234 - val_acc: 0.6573\n",
      "Epoch 4/30\n",
      "1283/1283 [==============================] - 17s 13ms/step - loss: 0.3545 - acc: 0.8340 - val_loss: 0.8443 - val_acc: 0.6573\n",
      "Epoch 5/30\n",
      "1283/1283 [==============================] - 17s 14ms/step - loss: 0.3091 - acc: 0.8574 - val_loss: 0.8712 - val_acc: 0.6573\n",
      "Epoch 6/30\n",
      "1283/1283 [==============================] - 18s 14ms/step - loss: 0.2759 - acc: 0.8792 - val_loss: 0.9977 - val_acc: 0.6573\n",
      "Epoch 7/30\n",
      "1283/1283 [==============================] - 17s 13ms/step - loss: 0.2527 - acc: 0.8956 - val_loss: 1.2703 - val_acc: 0.6573\n",
      "Epoch 8/30\n",
      "1283/1283 [==============================] - 17s 13ms/step - loss: 0.2173 - acc: 0.9135 - val_loss: 1.3653 - val_acc: 0.6573\n",
      "Epoch 9/30\n",
      "1283/1283 [==============================] - 17s 13ms/step - loss: 0.2345 - acc: 0.9018 - val_loss: 1.3458 - val_acc: 0.6573\n",
      "Epoch 10/30\n",
      "1283/1283 [==============================] - 16s 13ms/step - loss: 0.1967 - acc: 0.9189 - val_loss: 1.3751 - val_acc: 0.6573\n",
      "Epoch 11/30\n",
      "1283/1283 [==============================] - 16s 13ms/step - loss: 0.1826 - acc: 0.9415 - val_loss: 1.3635 - val_acc: 0.6573\n",
      "Epoch 12/30\n",
      "1283/1283 [==============================] - 16s 13ms/step - loss: 0.1649 - acc: 0.9431 - val_loss: 0.9848 - val_acc: 0.6573\n",
      "Epoch 13/30\n",
      "1283/1283 [==============================] - 16s 13ms/step - loss: 0.1394 - acc: 0.9525 - val_loss: 0.6364 - val_acc: 0.7134\n",
      "Epoch 14/30\n",
      "1283/1283 [==============================] - 16s 12ms/step - loss: 0.1237 - acc: 0.9649 - val_loss: 0.4509 - val_acc: 0.7913\n",
      "Epoch 15/30\n",
      "1283/1283 [==============================] - 16s 12ms/step - loss: 0.1090 - acc: 0.9782 - val_loss: 0.5324 - val_acc: 0.7570\n",
      "Epoch 16/30\n",
      "1283/1283 [==============================] - 16s 12ms/step - loss: 0.1223 - acc: 0.9680 - val_loss: 0.4381 - val_acc: 0.8287\n",
      "Epoch 17/30\n",
      "1283/1283 [==============================] - 16s 12ms/step - loss: 0.0764 - acc: 0.9860 - val_loss: 0.3107 - val_acc: 0.8754\n",
      "Epoch 18/30\n",
      "1283/1283 [==============================] - 16s 12ms/step - loss: 0.0747 - acc: 0.9914 - val_loss: 0.3025 - val_acc: 0.8754\n",
      "Epoch 19/30\n",
      "1283/1283 [==============================] - 16s 12ms/step - loss: 0.0588 - acc: 0.9938 - val_loss: 0.2986 - val_acc: 0.8692\n",
      "Epoch 20/30\n",
      "1283/1283 [==============================] - 16s 12ms/step - loss: 0.0408 - acc: 0.9984 - val_loss: 0.3133 - val_acc: 0.8505\n",
      "Epoch 21/30\n",
      "1283/1283 [==============================] - 16s 12ms/step - loss: 0.0358 - acc: 0.9992 - val_loss: 0.5051 - val_acc: 0.7850\n",
      "Epoch 22/30\n",
      "1283/1283 [==============================] - 16s 12ms/step - loss: 0.0338 - acc: 0.9961 - val_loss: 0.3197 - val_acc: 0.8629\n",
      "Epoch 23/30\n",
      "1283/1283 [==============================] - 16s 12ms/step - loss: 0.0270 - acc: 0.9992 - val_loss: 0.4749 - val_acc: 0.7819\n",
      "Epoch 24/30\n",
      "1283/1283 [==============================] - 16s 12ms/step - loss: 0.0245 - acc: 1.0000 - val_loss: 0.3287 - val_acc: 0.8660\n",
      "Epoch 25/30\n",
      "1283/1283 [==============================] - 15s 12ms/step - loss: 0.0359 - acc: 0.9945 - val_loss: 0.6154 - val_acc: 0.7352\n",
      "Epoch 26/30\n",
      "1283/1283 [==============================] - 16s 12ms/step - loss: 0.0192 - acc: 1.0000 - val_loss: 0.3159 - val_acc: 0.8754\n",
      "Epoch 27/30\n",
      "1283/1283 [==============================] - 15s 12ms/step - loss: 0.0170 - acc: 1.0000 - val_loss: 0.3522 - val_acc: 0.8349\n",
      "Epoch 28/30\n",
      "1283/1283 [==============================] - 15s 12ms/step - loss: 0.0159 - acc: 1.0000 - val_loss: 0.3837 - val_acc: 0.8287\n",
      "Epoch 29/30\n",
      "1283/1283 [==============================] - 15s 12ms/step - loss: 0.0142 - acc: 0.9992 - val_loss: 0.2780 - val_acc: 0.9097\n",
      "Epoch 30/30\n",
      "1283/1283 [==============================] - 15s 12ms/step - loss: 0.0139 - acc: 1.0000 - val_loss: 0.4562 - val_acc: 0.8224\n"
     ]
    }
   ],
   "source": [
    "print ('lr = {}'.format(K.get_value(model.optimizer.lr)))\n",
    "history = model.fit(Xtr, ytr, \n",
    "                    validation_data=(Xv, yv), \n",
    "                    batch_size=32, \n",
    "                    epochs=end_epo, \n",
    "                    initial_epoch=init_epo)\n",
    "init_epo += num_epo\n",
    "end_epo = init_epo + num_epo"
   ]
  },
  {
   "cell_type": "code",
   "execution_count": 18,
   "metadata": {},
   "outputs": [],
   "source": [
    "l = model.layers\n",
    "conv_fn = K.function([l[0].input, K.learning_phase()], [l[-4].output])"
   ]
  },
  {
   "cell_type": "code",
   "execution_count": 19,
   "metadata": {},
   "outputs": [],
   "source": [
    "def get_cm(inp, label):\n",
    "    '''Convert the 4x4 layer data to a 75x75 image.'''\n",
    "    conv = np.rollaxis(conv_fn([inp,0])[0][0],2,0)[label]\n",
    "    return scipy.misc.imresize(conv, (75,75), interp='nearest')"
   ]
  },
  {
   "cell_type": "code",
   "execution_count": 20,
   "metadata": {},
   "outputs": [],
   "source": [
    "def info_img (im_idx):\n",
    "    '''Generate heat maps for the boat (boatness) and iceberg (bergness) for image im_idx.'''\n",
    "    if (yv[im_idx][1] == 1.0):\n",
    "        img_type = 'iceberg'\n",
    "    else:\n",
    "        img_type = 'boat'\n",
    "    inp = np.expand_dims(Xv[im_idx], 0)\n",
    "    img_guess = np.round(model.predict(inp)[0],2)\n",
    "    if (img_guess[1] > 0.5):\n",
    "        guess_type = 'iceberg'\n",
    "    else:\n",
    "        guess_type = 'boat'\n",
    "    cm0 = get_cm(inp, 0)\n",
    "    cm1 = get_cm(inp, 1)\n",
    "    print ('truth: {}'.format(img_type))\n",
    "    print ('guess: {}, prob: {}'.format(guess_type, img_guess))\n",
    "    plt.figure(1,figsize=(10,10))\n",
    "    plt.subplot(121)\n",
    "    plt.title('Boatness')\n",
    "    plt.imshow(Xv[im_idx])\n",
    "    plt.imshow(cm0, cmap=\"cool\", alpha=0.5)\n",
    "    plt.subplot(122)\n",
    "    plt.title('Bergness')\n",
    "    plt.imshow(Xv[im_idx])\n",
    "    plt.imshow(cm1, cmap=\"cool\", alpha=0.5)"
   ]
  },
  {
   "cell_type": "code",
   "execution_count": 26,
   "metadata": {},
   "outputs": [
    {
     "name": "stderr",
     "output_type": "stream",
     "text": [
      "/usr/local/lib/python2.7/dist-packages/ipykernel_launcher.py:4: DeprecationWarning: `imresize` is deprecated!\n",
      "`imresize` is deprecated in SciPy 1.0.0, and will be removed in 1.2.0.\n",
      "Use ``skimage.transform.resize`` instead.\n",
      "  after removing the cwd from sys.path.\n"
     ]
    },
    {
     "name": "stdout",
     "output_type": "stream",
     "text": [
      "truth: iceberg\n",
      "guess: iceberg, prob: [ 0.  1.]\n"
     ]
    },
    {
     "data": {
      "image/png": "[encoded data removed]",
      "text/plain": [
       "<matplotlib.figure.Figure at 0x7fa8b37488d0>"
      ]
     },
     "metadata": {},
     "output_type": "display_data"
    }
   ],
   "source": [
    "info_img(16)"
   ]
  },
  {
   "cell_type": "code",
   "execution_count": 27,
   "metadata": {},
   "outputs": [],
   "source": [
    "test = pd.read_json('kaggle_lceberg_data/test.json')\n",
    "Xtest = get_images(test)\n",
    "test_predictions = model.predict_proba(Xtest)\n",
    "submission = pd.DataFrame({'id': test['id'], 'is_iceberg': test_predictions[:, 1]})\n",
    "submission.to_csv('sub_fcn.csv', index=False)"
   ]
  },
  {
   "cell_type": "code",
   "execution_count": 28,
   "metadata": {},
   "outputs": [
    {
     "data": {
      "text/html": [
       "<div>\n",
       "<style scoped>\n",
       "    .dataframe tbody tr th:only-of-type {\n",
       "        vertical-align: middle;\n",
       "    }\n",
       "\n",
       "    .dataframe tbody tr th {\n",
       "        vertical-align: top;\n",
       "    }\n",
       "\n",
       "    .dataframe thead th {\n",
       "        text-align: right;\n",
       "    }\n",
       "</style>\n",
       "<table border=\"1\" class=\"dataframe\">\n",
       "  <thead>\n",
       "    <tr style=\"text-align: right;\">\n",
       "      <th></th>\n",
       "      <th>id</th>\n",
       "      <th>is_iceberg</th>\n",
       "    </tr>\n",
       "  </thead>\n",
       "  <tbody>\n",
       "    <tr>\n",
       "      <th>0</th>\n",
       "      <td>5941774d</td>\n",
       "      <td>0.007682</td>\n",
       "    </tr>\n",
       "    <tr>\n",
       "      <th>1</th>\n",
       "      <td>4023181e</td>\n",
       "      <td>0.626564</td>\n",
       "    </tr>\n",
       "    <tr>\n",
       "      <th>2</th>\n",
       "      <td>b20200e4</td>\n",
       "      <td>0.002197</td>\n",
       "    </tr>\n",
       "    <tr>\n",
       "      <th>3</th>\n",
       "      <td>e7f018bb</td>\n",
       "      <td>0.998817</td>\n",
       "    </tr>\n",
       "    <tr>\n",
       "      <th>4</th>\n",
       "      <td>4371c8c3</td>\n",
       "      <td>0.072597</td>\n",
       "    </tr>\n",
       "  </tbody>\n",
       "</table>\n",
       "</div>"
      ],
      "text/plain": [
       "         id  is_iceberg\n",
       "0  5941774d    0.007682\n",
       "1  4023181e    0.626564\n",
       "2  b20200e4    0.002197\n",
       "3  e7f018bb    0.998817\n",
       "4  4371c8c3    0.072597"
      ]
     },
     "execution_count": 28,
     "metadata": {},
     "output_type": "execute_result"
    }
   ],
   "source": [
    "submission.head(5)"
   ]
  },
  {
   "cell_type": "code",
   "execution_count": null,
   "metadata": {},
   "outputs": [],
   "source": []
  }
 ],
 "metadata": {
  "kernelspec": {
   "display_name": "Python 2",
   "language": "python",
   "name": "python2"
  },
  "language_info": {
   "codemirror_mode": {
    "name": "ipython",
    "version": 2
   },
   "file_extension": ".py",
   "mimetype": "text/x-python",
   "name": "python",
   "nbconvert_exporter": "python",
   "pygments_lexer": "ipython2",
   "version": "2.7.12"
  }
 },
 "nbformat": 4,
 "nbformat_minor": 2
}
