{
 "cells": [
  {
   "cell_type": "code",
   "execution_count": 1,
   "metadata": {},
   "outputs": [
    {
     "name": "stdout",
     "output_type": "stream",
     "text": [
      "          id    is_iceberg\n",
      "0   5941774d  2.585285e-03\n",
      "1   4023181e  9.967103e-01\n",
      "2   b20200e4  2.125204e-03\n",
      "3   e7f018bb  9.999158e-01\n",
      "4   4371c8c3  9.943380e-01\n",
      "5   a8d9b1fd  8.705235e-01\n",
      "6   29e7727e  1.443777e-02\n",
      "7   92a51ffb  9.998017e-01\n",
      "8   c769ac97  5.343305e-06\n",
      "9   aee0547d  2.257358e-05\n",
      "10  565b28ac  2.398931e-11\n",
      "11  e04e9775  9.948831e-01\n",
      "12  8e8161d1  4.208183e-05\n",
      "13  4cf4d256  9.872134e-01\n",
      "14  139e5324  4.728795e-01\n",
      "15  f156976f  1.062914e-02\n",
      "16  68a117cc  4.131031e-02\n",
      "17  d9aa7a56  6.467431e-02\n",
      "18  9005b143  8.621616e-01\n",
      "19  5f6d3988  9.987929e-01\n"
     ]
    }
   ],
   "source": [
    "import pandas as pd # Used to open CSV files \n",
    "import numpy as np # Used for matrix operations\n",
    "\n",
    "\n",
    "sub_path = \"./statoil-iceberg-submissions/4L_submission_0.1777.csv\"\n",
    "# all_files = os.listdir(sub_path)\n",
    "\n",
    "# Read and concatenate submissions\n",
    "outs = pd.read_csv(sub_path)\n",
    "print outs[:20]"
   ]
  },
  {
   "cell_type": "code",
   "execution_count": 2,
   "metadata": {},
   "outputs": [
    {
     "name": "stdout",
     "output_type": "stream",
     "text": [
      "<class 'pandas.core.frame.DataFrame'>\n"
     ]
    }
   ],
   "source": [
    "print type(outs)"
   ]
  },
  {
   "cell_type": "code",
   "execution_count": 3,
   "metadata": {},
   "outputs": [
    {
     "name": "stdout",
     "output_type": "stream",
     "text": [
      "0     2.585285e-03\n",
      "1     9.967103e-01\n",
      "2     2.125204e-03\n",
      "3     9.999158e-01\n",
      "4     9.943380e-01\n",
      "5     8.705235e-01\n",
      "6     1.443777e-02\n",
      "7     9.998017e-01\n",
      "8     5.343305e-06\n",
      "9     2.257358e-05\n",
      "10    2.398931e-11\n",
      "11    9.948831e-01\n",
      "12    4.208183e-05\n",
      "13    9.872134e-01\n",
      "14    4.728795e-01\n",
      "15    1.062914e-02\n",
      "16    4.131031e-02\n",
      "17    6.467431e-02\n",
      "18    8.621616e-01\n",
      "19    9.987929e-01\n",
      "Name: is_iceberg, dtype: float64\n"
     ]
    }
   ],
   "source": [
    "print outs['is_iceberg'][:20]"
   ]
  },
  {
   "cell_type": "code",
   "execution_count": 6,
   "metadata": {},
   "outputs": [
    {
     "name": "stdout",
     "output_type": "stream",
     "text": [
      "<class 'pandas.core.series.Series'>\n",
      "<type 'list'>\n"
     ]
    }
   ],
   "source": [
    "probs = outs['is_iceberg']\n",
    "print type(probs)\n",
    "probs = list(probs)\n",
    "print type(probs)"
   ]
  },
  {
   "cell_type": "code",
   "execution_count": 7,
   "metadata": {},
   "outputs": [
    {
     "name": "stdout",
     "output_type": "stream",
     "text": [
      "8424\n",
      "[0.0025852848775700004, 0.996710300446, 0.0021252038423, 0.999915838242, 0.994337975979, 0.8705234527590001, 0.014437773264899999, 0.999801695347, 5.343305474530001e-06, 2.25735839194e-05, 2.3989305333899996e-11, 0.994883060455, 4.20818323619e-05, 0.987213432789, 0.47287949919699995, 0.0106291389093, 0.0413103066385, 0.0646743103862, 0.862161576748, 0.998792886734]\n"
     ]
    }
   ],
   "source": [
    "print len(probs)\n",
    "print probs[:20]"
   ]
  },
  {
   "cell_type": "code",
   "execution_count": 8,
   "metadata": {},
   "outputs": [
    {
     "name": "stdout",
     "output_type": "stream",
     "text": [
      "0.00258528487757\n",
      "0.996710300446\n",
      "0.0021252038423\n",
      "0.999915838242\n",
      "0.994337975979\n",
      "0.870523452759\n",
      "0.0144377732649\n",
      "0.999801695347\n",
      "5.34330547453e-06\n",
      "2.25735839194e-05\n",
      "2.39893053339e-11\n",
      "0.994883060455\n",
      "4.20818323619e-05\n",
      "0.987213432789\n",
      "0.472879499197\n",
      "0.0106291389093\n",
      "0.0413103066385\n",
      "0.0646743103862\n",
      "0.862161576748\n",
      "0.998792886734\n",
      "[0, 1, 0, 1, 1, 1, 0, 1, 0, 0, 0, 1, 0, 1, 0.47287949919699995, 0, 0, 0, 1, 1]\n"
     ]
    }
   ],
   "source": [
    "for i, prob in enumerate(probs):\n",
    "    if i < 20:\n",
    "        print prob\n",
    "    if prob > 0.7:\n",
    "        probs[i] = 1\n",
    "    elif prob < 0.3:\n",
    "        probs[i] = 0\n",
    "print probs[:20]"
   ]
  },
  {
   "cell_type": "code",
   "execution_count": 10,
   "metadata": {},
   "outputs": [
    {
     "name": "stdout",
     "output_type": "stream",
     "text": [
      "[0, 1, 0, 1, 1, 1, 0, 1, 0, 0, 0, 1, 0, 1, 0.47287949919699995, 0, 0, 0, 1, 1, 1, 0, 0.6232949495319999, 0, 0, 0, 0, 0.58870267868, 1, 1]\n"
     ]
    }
   ],
   "source": [
    "print probs[:30]"
   ]
  },
  {
   "cell_type": "code",
   "execution_count": 11,
   "metadata": {},
   "outputs": [
    {
     "name": "stdout",
     "output_type": "stream",
     "text": [
      "0     5941774d\n",
      "1     4023181e\n",
      "2     b20200e4\n",
      "3     e7f018bb\n",
      "4     4371c8c3\n",
      "5     a8d9b1fd\n",
      "6     29e7727e\n",
      "7     92a51ffb\n",
      "8     c769ac97\n",
      "9     aee0547d\n",
      "10    565b28ac\n",
      "11    e04e9775\n",
      "12    8e8161d1\n",
      "13    4cf4d256\n",
      "14    139e5324\n",
      "15    f156976f\n",
      "16    68a117cc\n",
      "17    d9aa7a56\n",
      "18    9005b143\n",
      "19    5f6d3988\n",
      "Name: id, dtype: object\n"
     ]
    }
   ],
   "source": [
    "print outs['id'][:20]"
   ]
  },
  {
   "cell_type": "code",
   "execution_count": 12,
   "metadata": {},
   "outputs": [],
   "source": [
    "submission = pd.DataFrame({'id': outs[\"id\"], 'is_iceberg': probs})"
   ]
  },
  {
   "cell_type": "code",
   "execution_count": 13,
   "metadata": {},
   "outputs": [
    {
     "name": "stdout",
     "output_type": "stream",
     "text": [
      "          id  is_iceberg\n",
      "0   5941774d    0.000000\n",
      "1   4023181e    1.000000\n",
      "2   b20200e4    0.000000\n",
      "3   e7f018bb    1.000000\n",
      "4   4371c8c3    1.000000\n",
      "5   a8d9b1fd    1.000000\n",
      "6   29e7727e    0.000000\n",
      "7   92a51ffb    1.000000\n",
      "8   c769ac97    0.000000\n",
      "9   aee0547d    0.000000\n",
      "10  565b28ac    0.000000\n",
      "11  e04e9775    1.000000\n",
      "12  8e8161d1    0.000000\n",
      "13  4cf4d256    1.000000\n",
      "14  139e5324    0.472879\n",
      "15  f156976f    0.000000\n",
      "16  68a117cc    0.000000\n",
      "17  d9aa7a56    0.000000\n",
      "18  9005b143    1.000000\n",
      "19  5f6d3988    1.000000\n"
     ]
    }
   ],
   "source": [
    "print submission[:20]"
   ]
  },
  {
   "cell_type": "code",
   "execution_count": 14,
   "metadata": {},
   "outputs": [],
   "source": [
    "submission.to_csv('4L_submission_0.1777_0_1.csv', index=False)"
   ]
  },
  {
   "cell_type": "code",
   "execution_count": 15,
   "metadata": {},
   "outputs": [
    {
     "name": "stdout",
     "output_type": "stream",
     "text": [
      "          id    is_iceberg\n",
      "0   5941774d  2.585285e-03\n",
      "1   4023181e  9.967103e-01\n",
      "2   b20200e4  2.125204e-03\n",
      "3   e7f018bb  9.999158e-01\n",
      "4   4371c8c3  9.943380e-01\n",
      "5   a8d9b1fd  8.705235e-01\n",
      "6   29e7727e  1.443777e-02\n",
      "7   92a51ffb  9.998017e-01\n",
      "8   c769ac97  5.343305e-06\n",
      "9   aee0547d  2.257358e-05\n",
      "10  565b28ac  2.398931e-11\n",
      "11  e04e9775  9.948831e-01\n",
      "12  8e8161d1  4.208183e-05\n",
      "13  4cf4d256  9.872134e-01\n",
      "14  139e5324  4.728795e-01\n",
      "15  f156976f  1.062914e-02\n",
      "16  68a117cc  4.131031e-02\n",
      "17  d9aa7a56  6.467431e-02\n",
      "18  9005b143  8.621616e-01\n",
      "19  5f6d3988  9.987929e-01\n"
     ]
    }
   ],
   "source": [
    "print outs[:20]"
   ]
  },
  {
   "cell_type": "code",
   "execution_count": null,
   "metadata": {},
   "outputs": [],
   "source": []
  }
 ],
 "metadata": {
  "kernelspec": {
   "display_name": "Python 2",
   "language": "python",
   "name": "python2"
  },
  "language_info": {
   "codemirror_mode": {
    "name": "ipython",
    "version": 2
   },
   "file_extension": ".py",
   "mimetype": "text/x-python",
   "name": "python",
   "nbconvert_exporter": "python",
   "pygments_lexer": "ipython2",
   "version": "2.7.12"
  }
 },
 "nbformat": 4,
 "nbformat_minor": 2
}
