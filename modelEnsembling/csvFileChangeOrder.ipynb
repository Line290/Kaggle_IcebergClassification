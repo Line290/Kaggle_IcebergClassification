{
 "cells": [
  {
   "cell_type": "markdown",
   "metadata": {},
   "source": [
    "# csv file change"
   ]
  },
  {
   "cell_type": "code",
   "execution_count": 1,
   "metadata": {},
   "outputs": [
    {
     "name": "stdout",
     "output_type": "stream",
     "text": [
      "0.1538.csv\n",
      "4convlayers_0.1731.csv\n",
      "4L_pseudolabeling_0.1763.csv\n",
      "sub201801102212renset50_0.17478.csv\n",
      "sub201801111028inceptionv3_0.1869.csv\n",
      "sub201801111144_xception_0.1841.csv\n",
      "sub201801111534ResNet50_aver_0.1689.csv\n",
      "submission38.csv\n",
      "VGG16pretrain_0.1613.csv\n",
      "VGG19_0.14.csv\n",
      "\n"
     ]
    }
   ],
   "source": [
    "import os\n",
    "import numpy as np \n",
    "import pandas as pd \n",
    "from subprocess import check_output\n",
    "print(check_output([\"ls\", \"./input\"]).decode(\"utf8\"))"
   ]
  },
  {
   "cell_type": "code",
   "execution_count": 2,
   "metadata": {},
   "outputs": [],
   "source": [
    "sub_path = \"./input\"\n",
    "all_files = os.listdir(sub_path)"
   ]
  },
  {
   "cell_type": "code",
   "execution_count": 5,
   "metadata": {},
   "outputs": [],
   "source": [
    "a = sub_path + '/submission38.csv'\n",
    "b = sub_path + '/VGG16pretrain_0.1613.csv'\n",
    "# outs = [pd.read_csv(os.path.join(sub_path, f), index_col=0) for f in all_files]\n",
    "x = pd.read_csv(a)"
   ]
  },
  {
   "cell_type": "code",
   "execution_count": 6,
   "metadata": {
    "scrolled": true
   },
   "outputs": [
    {
     "name": "stdout",
     "output_type": "stream",
     "text": [
      "            id  is_iceberg\n",
      "0     5941774d    0.008875\n",
      "1     4023181e    0.146779\n",
      "2     b20200e4    0.048646\n",
      "3     e7f018bb    0.999184\n",
      "4     4371c8c3    0.277251\n",
      "5     a8d9b1fd    0.110981\n",
      "6     29e7727e    0.168952\n",
      "7     92a51ffb    0.999740\n",
      "8     c769ac97    0.000350\n",
      "9     aee0547d    0.000311\n",
      "10    565b28ac    0.000279\n",
      "11    e04e9775    0.252068\n",
      "12    8e8161d1    0.000411\n",
      "13    4cf4d256    0.471183\n",
      "14    139e5324    0.091082\n",
      "15    f156976f    0.001352\n",
      "16    68a117cc    0.052424\n",
      "17    d9aa7a56    0.041239\n",
      "18    9005b143    0.099022\n",
      "19    5f6d3988    0.968973\n",
      "20    9ad70954    0.096317\n",
      "21    b9087b9e    0.459890\n",
      "22    a39a1427    0.119866\n",
      "23    82fbe8ed    0.079417\n",
      "24    1fae4879    0.000052\n",
      "25    6dd8f13d    0.000801\n",
      "26    bbad5958    0.048164\n",
      "27    54527583    0.169861\n",
      "28    be8fa29c    0.145003\n",
      "29    81a3328f    0.999181\n",
      "...        ...         ...\n",
      "8394  8ae30ce6    0.036586\n",
      "8395  de27ed88    0.000251\n",
      "8396  66d5196f    0.091443\n",
      "8397  d85f1858    0.362502\n",
      "8398  16dcb33a    0.209251\n",
      "8399  eca3158e    0.037987\n",
      "8400  08daeee6    0.000221\n",
      "8401  e9c513ee    0.000126\n",
      "8402  b1519fa6    0.311533\n",
      "8403  dfc89540    0.449389\n",
      "8404  8fd8c0e9    0.360771\n",
      "8405  45df6347    0.000409\n",
      "8406  bf7928d7    0.001176\n",
      "8407  7b587c05    0.000993\n",
      "8408  c2834388    0.148274\n",
      "8409  146143c3    0.996577\n",
      "8410  d59aee00    0.000378\n",
      "8411  cbc0b93b    0.093185\n",
      "8412  088e2ff7    0.896595\n",
      "8413  673d33cd    0.056556\n",
      "8414  674b031e    0.005700\n",
      "8415  43db4207    0.145609\n",
      "8416  156855e1    0.000162\n",
      "8417  ac96cfb0    0.103595\n",
      "8418  fe45aef5    0.934156\n",
      "8419  16ee9b50    0.000079\n",
      "8420  5a599eb7    0.127900\n",
      "8421  df30d6dd    0.002430\n",
      "8422  18af95b1    0.999760\n",
      "8423  27d788c8    0.005469\n",
      "\n",
      "[8424 rows x 2 columns]\n"
     ]
    }
   ],
   "source": [
    "print x"
   ]
  },
  {
   "cell_type": "code",
   "execution_count": 7,
   "metadata": {
    "scrolled": true
   },
   "outputs": [
    {
     "name": "stdout",
     "output_type": "stream",
     "text": [
      "            id    is_iceberg\n",
      "0     5941774d  1.758107e-01\n",
      "1     4023181e  4.762523e-01\n",
      "2     b20200e4  6.421022e-07\n",
      "3     e7f018bb  9.970161e-01\n",
      "4     4371c8c3  2.452419e-02\n",
      "5     a8d9b1fd  3.649666e-01\n",
      "6     29e7727e  1.054916e-02\n",
      "7     92a51ffb  9.999193e-01\n",
      "8     c769ac97  6.406796e-07\n",
      "9     aee0547d  4.235656e-05\n",
      "10    565b28ac  3.642950e-08\n",
      "11    e04e9775  3.134406e-01\n",
      "12    8e8161d1  1.248055e-02\n",
      "13    4cf4d256  4.537536e-01\n",
      "14    139e5324  2.272614e-03\n",
      "15    f156976f  4.075835e-03\n",
      "16    68a117cc  1.706938e-02\n",
      "17    d9aa7a56  1.577362e-01\n",
      "18    9005b143  2.838037e-03\n",
      "19    5f6d3988  9.747916e-01\n",
      "20    9ad70954  3.494043e-02\n",
      "21    b9087b9e  7.000254e-01\n",
      "22    a39a1427  6.972315e-02\n",
      "23    82fbe8ed  1.428737e-02\n",
      "24    1fae4879  5.255798e-10\n",
      "25    6dd8f13d  1.847518e-04\n",
      "26    bbad5958  3.052203e-02\n",
      "27    54527583  4.750435e-02\n",
      "28    be8fa29c  4.115174e-02\n",
      "29    81a3328f  9.994523e-01\n",
      "...        ...           ...\n",
      "8394  8ae30ce6  6.041787e-03\n",
      "8395  de27ed88  7.040043e-07\n",
      "8396  66d5196f  2.987561e-02\n",
      "8397  d85f1858  4.443816e-01\n",
      "8398  16dcb33a  4.957295e-01\n",
      "8399  eca3158e  1.517336e-03\n",
      "8400  08daeee6  1.210239e-04\n",
      "8401  e9c513ee  2.910363e-04\n",
      "8402  b1519fa6  4.903269e-01\n",
      "8403  dfc89540  5.679390e-01\n",
      "8404  8fd8c0e9  5.650402e-01\n",
      "8405  45df6347  1.133760e-04\n",
      "8406  bf7928d7  8.636637e-05\n",
      "8407  7b587c05  1.618307e-03\n",
      "8408  c2834388  1.681471e-01\n",
      "8409  146143c3  9.981758e-01\n",
      "8410  d59aee00  3.033627e-10\n",
      "8411  cbc0b93b  2.627631e-01\n",
      "8412  088e2ff7  6.528066e-01\n",
      "8413  673d33cd  1.618740e-02\n",
      "8414  674b031e  6.443463e-04\n",
      "8415  43db4207  2.950009e-01\n",
      "8416  156855e1  3.333870e-12\n",
      "8417  ac96cfb0  9.752353e-02\n",
      "8418  fe45aef5  9.982809e-01\n",
      "8419  16ee9b50  6.697929e-11\n",
      "8420  5a599eb7  4.668011e-01\n",
      "8421  df30d6dd  5.478328e-02\n",
      "8422  18af95b1  9.993840e-01\n",
      "8423  27d788c8  5.191603e-03\n",
      "\n",
      "[8424 rows x 2 columns]\n"
     ]
    }
   ],
   "source": [
    "y = pd.read_csv(b)\n",
    "print y"
   ]
  },
  {
   "cell_type": "code",
   "execution_count": 26,
   "metadata": {},
   "outputs": [
    {
     "name": "stdout",
     "output_type": "stream",
     "text": [
      "0.997375845909\n"
     ]
    }
   ],
   "source": [
    "prob = x[x['id'] == '81a3328f']\n",
    "print float(prob['is_iceberg'])"
   ]
  },
  {
   "cell_type": "code",
   "execution_count": 27,
   "metadata": {},
   "outputs": [],
   "source": [
    "columns = ['id', 'is_iceberg']\n",
    "df_pred=pd.DataFrame(data=np.zeros((0,len(columns))), columns=columns)\n",
    "for index, row in y.iterrows():\n",
    "    prob = None\n",
    "#     print index, row['id']\n",
    "#     for x_index, x_row in x.iterrows():\n",
    "#         if row['id'] == x_row['id']:\n",
    "#             prob = x_row['is_iceberg']\n",
    "    record = x[x['id'] == row['id']]\n",
    "    prob = record['is_iceberg']\n",
    "    df_pred = df_pred.append({'id':row['id'], 'is_iceberg':float(prob)},ignore_index=True)"
   ]
  },
  {
   "cell_type": "code",
   "execution_count": 28,
   "metadata": {
    "scrolled": true
   },
   "outputs": [
    {
     "name": "stdout",
     "output_type": "stream",
     "text": [
      "            id  is_iceberg\n",
      "0     5941774d    0.030369\n",
      "1     4023181e    0.364333\n",
      "2     b20200e4    0.017298\n",
      "3     e7f018bb    0.998199\n",
      "4     4371c8c3    0.657598\n",
      "5     a8d9b1fd    0.257216\n",
      "6     29e7727e    0.022536\n",
      "7     92a51ffb    0.998681\n",
      "8     c769ac97    0.001470\n",
      "9     aee0547d    0.000067\n",
      "10    565b28ac    0.001188\n",
      "11    e04e9775    0.385706\n",
      "12    8e8161d1    0.004168\n",
      "13    4cf4d256    0.888619\n",
      "14    139e5324    0.059645\n",
      "15    f156976f    0.005729\n",
      "16    68a117cc    0.168256\n",
      "17    d9aa7a56    0.081957\n",
      "18    9005b143    0.051664\n",
      "19    5f6d3988    0.989825\n",
      "20    9ad70954    0.445321\n",
      "21    b9087b9e    0.694421\n",
      "22    a39a1427    0.071571\n",
      "23    82fbe8ed    0.016502\n",
      "24    1fae4879    0.000094\n",
      "25    6dd8f13d    0.004735\n",
      "26    bbad5958    0.013753\n",
      "27    54527583    0.044855\n",
      "28    be8fa29c    0.198932\n",
      "29    81a3328f    0.997376\n",
      "...        ...         ...\n",
      "8394  8ae30ce6    0.030702\n",
      "8395  de27ed88    0.001928\n",
      "8396  66d5196f    0.173943\n",
      "8397  d85f1858    0.251873\n",
      "8398  16dcb33a    0.658718\n",
      "8399  eca3158e    0.124736\n",
      "8400  08daeee6    0.003078\n",
      "8401  e9c513ee    0.000766\n",
      "8402  b1519fa6    0.182766\n",
      "8403  dfc89540    0.765103\n",
      "8404  8fd8c0e9    0.463646\n",
      "8405  45df6347    0.004986\n",
      "8406  bf7928d7    0.009771\n",
      "8407  7b587c05    0.005185\n",
      "8408  c2834388    0.231090\n",
      "8409  146143c3    0.983719\n",
      "8410  d59aee00    0.000746\n",
      "8411  cbc0b93b    0.181687\n",
      "8412  088e2ff7    0.833203\n",
      "8413  673d33cd    0.086521\n",
      "8414  674b031e    0.002720\n",
      "8415  43db4207    0.496820\n",
      "8416  156855e1    0.002296\n",
      "8417  ac96cfb0    0.033957\n",
      "8418  fe45aef5    0.953684\n",
      "8419  16ee9b50    0.000056\n",
      "8420  5a599eb7    0.152627\n",
      "8421  df30d6dd    0.011550\n",
      "8422  18af95b1    0.995928\n",
      "8423  27d788c8    0.145813\n",
      "\n",
      "[8424 rows x 2 columns]\n"
     ]
    }
   ],
   "source": [
    "print df_pred"
   ]
  },
  {
   "cell_type": "code",
   "execution_count": 29,
   "metadata": {},
   "outputs": [],
   "source": [
    "csv_path='./input/VGG19_0.14.csv'\n",
    "df_pred.to_csv(csv_path, columns=('id', 'is_iceberg'), index=None)"
   ]
  },
  {
   "cell_type": "code",
   "execution_count": null,
   "metadata": {},
   "outputs": [],
   "source": []
  }
 ],
 "metadata": {
  "kernelspec": {
   "display_name": "Python 2",
   "language": "python",
   "name": "python2"
  },
  "language_info": {
   "codemirror_mode": {
    "name": "ipython",
    "version": 2
   },
   "file_extension": ".py",
   "mimetype": "text/x-python",
   "name": "python",
   "nbconvert_exporter": "python",
   "pygments_lexer": "ipython2",
   "version": "2.7.12"
  }
 },
 "nbformat": 4,
 "nbformat_minor": 2
}
